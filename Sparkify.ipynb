{
 "cells": [
  {
   "cell_type": "markdown",
   "metadata": {},
   "source": [
    "# Sparkify Project Workspace\n",
    "This workspace contains a tiny subset (128MB) of the full dataset available (12GB). Feel free to use this workspace to build your project, or to explore a smaller subset with Spark before deploying your cluster on the cloud. Instructions for setting up your Spark cluster is included in the last lesson of the Extracurricular Spark Course content.\n",
    "\n",
    "You can follow the steps below to guide your data analysis and model building portion of this project."
   ]
  },
  {
   "cell_type": "code",
   "execution_count": 1,
   "metadata": {},
   "outputs": [],
   "source": [
    "# import libraries\n",
    "import numpy as np\n",
    "import pandas as pd\n",
    "import seaborn as sns\n",
    "import matplotlib.pyplot as plt\n",
    "\n",
    "from pyspark.sql import SparkSession, Window\n",
    "from pyspark.sql.functions import avg, stddev, split, udf, isnull, first, col, format_number, rand\n",
    "from pyspark.sql.types import IntegerType, FloatType\n",
    "\n",
    "from pyspark.ml import Pipeline\n",
    "from pyspark.ml.classification import LogisticRegression,RandomForestClassifier,DecisionTreeClassifier\n",
    "from pyspark.ml.evaluation import MulticlassClassificationEvaluator\n",
    "from pyspark.ml.feature import CountVectorizer, IDF, Normalizer, PCA, RegexTokenizer, StandardScaler, StopWordsRemover, StringIndexer, VectorAssembler\n",
    "from pyspark.ml.regression import LinearRegression\n",
    "from pyspark.ml.tuning import CrossValidator, ParamGridBuilder\n",
    "\n",
    "import re\n",
    "\n",
    "from pyspark.sql.types import IntegerType, ArrayType, FloatType, DoubleType, Row, DateType, StringType\n",
    "\n",
    "import time\n",
    "\n",
    "import datetime\n",
    "import pyspark.sql.functions as F\n",
    "%matplotlib inline"
   ]
  },
  {
   "cell_type": "code",
   "execution_count": 2,
   "metadata": {},
   "outputs": [],
   "source": [
    "# create a Spark session\n",
    "spark = SparkSession.builder \\\n",
    "    .master(\"local\") \\\n",
    "    .appName(\"Creating Features\") \\\n",
    "    .getOrCreate()"
   ]
  },
  {
   "cell_type": "markdown",
   "metadata": {},
   "source": [
    "# Load and Clean Dataset\n",
    "In this workspace, the mini-dataset file is `mini_sparkify_event_data.json`. Load and clean the dataset, checking for invalid or missing data - for example, records without userids or sessionids. "
   ]
  },
  {
   "cell_type": "code",
   "execution_count": 3,
   "metadata": {},
   "outputs": [],
   "source": [
    "mini_sparktify_event_data = 'mini_sparkify_event_data.json'"
   ]
  },
  {
   "cell_type": "code",
   "execution_count": 4,
   "metadata": {},
   "outputs": [
    {
     "data": {
      "text/plain": [
       "DataFrame[artist: string, auth: string, firstName: string, gender: string, itemInSession: bigint, lastName: string, length: double, level: string, location: string, method: string, page: string, registration: bigint, sessionId: bigint, song: string, status: bigint, ts: bigint, userAgent: string, userId: string]"
      ]
     },
     "execution_count": 4,
     "metadata": {},
     "output_type": "execute_result"
    }
   ],
   "source": [
    "df = spark.read.json(mini_sparktify_event_data)\n",
    "df.persist()"
   ]
  },
  {
   "cell_type": "code",
   "execution_count": 5,
   "metadata": {},
   "outputs": [
    {
     "data": {
      "text/plain": [
       "0"
      ]
     },
     "execution_count": 5,
     "metadata": {},
     "output_type": "execute_result"
    }
   ],
   "source": [
    "df.filter(\"userId IS NULL\").count()"
   ]
  },
  {
   "cell_type": "code",
   "execution_count": 6,
   "metadata": {},
   "outputs": [
    {
     "data": {
      "text/plain": [
       "0"
      ]
     },
     "execution_count": 6,
     "metadata": {},
     "output_type": "execute_result"
    }
   ],
   "source": [
    "df.filter(\"sessionId IS NULL\").count()"
   ]
  },
  {
   "cell_type": "markdown",
   "metadata": {},
   "source": [
    "# Exploratory Data Analysis\n",
    "When you're working with the full dataset, perform EDA by loading a small subset of the data and doing basic manipulations within Spark. In this workspace, you are already provided a small subset of data you can explore.\n",
    "\n",
    "### Define Churn\n",
    "\n",
    "Once you've done some preliminary analysis, create a column `Churn` to use as the label for your model. I suggest using the `Cancellation Confirmation` events to define your churn, which happen for both paid and free users. As a bonus task, you can also look into the `Downgrade` events.\n",
    "\n",
    "### Explore Data\n",
    "Once you've defined churn, perform some exploratory data analysis to observe the behavior for users who stayed vs users who churned. You can start by exploring aggregates on these two groups of users, observing how much of a specific action they experienced per a certain time unit or number of songs played."
   ]
  },
  {
   "cell_type": "code",
   "execution_count": 7,
   "metadata": {},
   "outputs": [],
   "source": [
    "df.createOrReplaceTempView(\"Sparkify_local\")"
   ]
  },
  {
   "cell_type": "code",
   "execution_count": 8,
   "metadata": {},
   "outputs": [
    {
     "name": "stdout",
     "output_type": "stream",
     "text": [
      "+-------------------------+\n",
      "|page                     |\n",
      "+-------------------------+\n",
      "|Cancel                   |\n",
      "|Submit Downgrade         |\n",
      "|Thumbs Down              |\n",
      "|Home                     |\n",
      "|Downgrade                |\n",
      "|Roll Advert              |\n",
      "|Logout                   |\n",
      "|Save Settings            |\n",
      "|Cancellation Confirmation|\n",
      "|About                    |\n",
      "|Submit Registration      |\n",
      "|Settings                 |\n",
      "|Login                    |\n",
      "|Register                 |\n",
      "|Add to Playlist          |\n",
      "|Add Friend               |\n",
      "|NextSong                 |\n",
      "|Thumbs Up                |\n",
      "|Help                     |\n",
      "|Upgrade                  |\n",
      "+-------------------------+\n",
      "only showing top 20 rows\n",
      "\n"
     ]
    }
   ],
   "source": [
    "df.select(\"page\").distinct().show(20, False)"
   ]
  },
  {
   "cell_type": "markdown",
   "metadata": {},
   "source": [
    "#### Define Churn"
   ]
  },
  {
   "cell_type": "code",
   "execution_count": 9,
   "metadata": {},
   "outputs": [],
   "source": [
    "@udf(\"integer\")\n",
    "def define_churn_event(page):\n",
    "    if (page == 'Cancellation Confirmation'):\n",
    "        return 1\n",
    "    else:\n",
    "        return 0\n",
    "udf_define_churn = udf(define_churn_event)"
   ]
  },
  {
   "cell_type": "code",
   "execution_count": 10,
   "metadata": {},
   "outputs": [],
   "source": [
    "df = df.withColumn('Churn', define_churn_event(df.page))"
   ]
  },
  {
   "cell_type": "markdown",
   "metadata": {},
   "source": [
    "#### Define Downgrade"
   ]
  },
  {
   "cell_type": "code",
   "execution_count": 11,
   "metadata": {},
   "outputs": [],
   "source": [
    "userw = Window.partitionBy('userId').rangeBetween(Window.unboundedPreceding,Window.unboundedFollowing)\n",
    "df = df.withColumn('Downgrade',F.max('Churn').over(userw))"
   ]
  },
  {
   "cell_type": "markdown",
   "metadata": {},
   "source": [
    "#### Update Temp Table"
   ]
  },
  {
   "cell_type": "code",
   "execution_count": 12,
   "metadata": {},
   "outputs": [],
   "source": [
    "df.createOrReplaceTempView(\"Sparkify_local\")"
   ]
  },
  {
   "cell_type": "code",
   "execution_count": 13,
   "metadata": {},
   "outputs": [
    {
     "name": "stdout",
     "output_type": "stream",
     "text": [
      "+-------+-----------------+\n",
      "|summary|           length|\n",
      "+-------+-----------------+\n",
      "|  count|           228108|\n",
      "|   mean|249.1171819778458|\n",
      "| stddev|99.23517921058361|\n",
      "|    min|          0.78322|\n",
      "|    max|       3024.66567|\n",
      "+-------+-----------------+\n",
      "\n"
     ]
    }
   ],
   "source": [
    "df.describe('length').show()"
   ]
  },
  {
   "cell_type": "code",
   "execution_count": 14,
   "metadata": {},
   "outputs": [],
   "source": [
    "df_len = df.select('length')"
   ]
  },
  {
   "cell_type": "code",
   "execution_count": 15,
   "metadata": {},
   "outputs": [
    {
     "data": {
      "image/png": "[encoded data removed]",
      "text/plain": [
       "<matplotlib.figure.Figure at 0x7f3548669d30>"
      ]
     },
     "metadata": {
      "needs_background": "light"
     },
     "output_type": "display_data"
    }
   ],
   "source": [
    "#Distribution plot for length\n",
    "plt.figure(figsize=(5,5))\n",
    "sns.distplot(df_len.toPandas().dropna(), bins = 100, kde = False,  color='darksalmon')\n",
    "plt.title('length Distribution', \n",
    "              fontsize=12, fontweight='bold');"
   ]
  },
  {
   "cell_type": "code",
   "execution_count": 16,
   "metadata": {},
   "outputs": [
    {
     "name": "stdout",
     "output_type": "stream",
     "text": [
      "+------+---+\n",
      "|gender|CNT|\n",
      "+------+---+\n",
      "|     M|121|\n",
      "|     F|104|\n",
      "|  null|  1|\n",
      "+------+---+\n",
      "\n"
     ]
    }
   ],
   "source": [
    "spark.sql('''\n",
    "        SELECT gender, count(DISTINCT userId) AS CNT\n",
    "        FROM Sparkify_local\n",
    "        GROUP BY gender\n",
    "        ORDER BY CNT DESC\n",
    "''').show(20)"
   ]
  },
  {
   "cell_type": "code",
   "execution_count": 17,
   "metadata": {},
   "outputs": [
    {
     "name": "stdout",
     "output_type": "stream",
     "text": [
      "+-----+------+--------------+\n",
      "|Churn|gender|cnt_session_id|\n",
      "+-----+------+--------------+\n",
      "|    0|     F|        154558|\n",
      "|    0|     M|        123544|\n",
      "|    0|  null|          8346|\n",
      "|    1|     M|            32|\n",
      "|    1|     F|            20|\n",
      "+-----+------+--------------+\n",
      "\n"
     ]
    }
   ],
   "source": [
    "#notice that we have over 8K records that have null in genders\n",
    "spark.sql('''\n",
    "        SELECT Churn, gender, count(sessionId) as cnt_session_id\n",
    "        FROM Sparkify_local\n",
    "        GROUP BY Churn, gender\n",
    "        ORDER BY count(sessionId) DESC\n",
    "''').show(20)"
   ]
  },
  {
   "cell_type": "code",
   "execution_count": 18,
   "metadata": {},
   "outputs": [
    {
     "name": "stdout",
     "output_type": "stream",
     "text": [
      "+---------+--------------------+----------------+\n",
      "|Downgrade|         sum(length)|count(sessionId)|\n",
      "+---------+--------------------+----------------+\n",
      "|        1|       3822773.08139|           19168|\n",
      "|        0|2.0069595060909983E7|           97880|\n",
      "|        1|       5225968.88328|           25696|\n",
      "|        0|2.7707285121019978E7|          135410|\n",
      "|        0|                null|            8346|\n",
      "+---------+--------------------+----------------+\n",
      "\n"
     ]
    }
   ],
   "source": [
    "spark.sql('''\n",
    "        SELECT Downgrade, sum(length), count(sessionId)\n",
    "        FROM Sparkify_local\n",
    "        GROUP BY Downgrade, gender\n",
    "''').show(20)"
   ]
  },
  {
   "cell_type": "code",
   "execution_count": 19,
   "metadata": {},
   "outputs": [
    {
     "name": "stdout",
     "output_type": "stream",
     "text": [
      "+---------+-------------+\n",
      "|Downgrade|count(userId)|\n",
      "+---------+-------------+\n",
      "|        1|        44864|\n",
      "|        0|       241636|\n",
      "+---------+-------------+\n",
      "\n"
     ]
    }
   ],
   "source": [
    "spark.sql('''\n",
    "        SELECT Downgrade, count(userId)\n",
    "        FROM Sparkify_local\n",
    "        GROUP BY Downgrade\n",
    "''').show(20)"
   ]
  },
  {
   "cell_type": "code",
   "execution_count": 20,
   "metadata": {},
   "outputs": [
    {
     "data": {
      "text/plain": [
       "[Row(artist='Sleeping With Sirens', auth='Logged In', firstName='Darianna', gender='F', itemInSession=0, lastName='Carpenter', length=202.97098, level='free', location='Bridgeport-Stamford-Norwalk, CT', method='PUT', page='NextSong', registration=1538016340000, sessionId=31, song='Captain Tyin Knots VS Mr Walkway (No Way)', status=200, ts=1539003534000, userAgent='\"Mozilla/5.0 (iPhone; CPU iPhone OS 7_1_2 like Mac OS X) AppleWebKit/537.51.2 (KHTML, like Gecko) Version/7.0 Mobile/11D257 Safari/9537.53\"', userId='100010', Churn=0, Downgrade=0)]"
      ]
     },
     "execution_count": 20,
     "metadata": {},
     "output_type": "execute_result"
    }
   ],
   "source": [
    "df.take(1)"
   ]
  },
  {
   "cell_type": "code",
   "execution_count": 21,
   "metadata": {},
   "outputs": [
    {
     "name": "stdout",
     "output_type": "stream",
     "text": [
      "+----------------------+-----+-----+\n",
      "|count(DISTINCT userId)|Churn|level|\n",
      "+----------------------+-----+-----+\n",
      "|                   196|    0| free|\n",
      "|                   166|    0| paid|\n",
      "|                    31|    1| paid|\n",
      "|                    21|    1| free|\n",
      "+----------------------+-----+-----+\n",
      "\n"
     ]
    }
   ],
   "source": [
    "spark.sql('''\n",
    "        SELECT COUNT(DISTINCT userId ), Churn, level\n",
    "        FROM Sparkify_local\n",
    "        GROUP BY Churn, level\n",
    "''').show()"
   ]
  },
  {
   "cell_type": "code",
   "execution_count": 22,
   "metadata": {},
   "outputs": [],
   "source": [
    "df_level = spark.sql('''\n",
    "        SELECT COUNT(DISTINCT userId ) as user_cnt , Downgrade, level\n",
    "        FROM Sparkify_local\n",
    "        GROUP BY Downgrade, level\n",
    "''').toPandas()"
   ]
  },
  {
   "cell_type": "code",
   "execution_count": 23,
   "metadata": {},
   "outputs": [
    {
     "data": {
      "text/html": [
       "<div>\n",
       "<style scoped>\n",
       "    .dataframe tbody tr th:only-of-type {\n",
       "        vertical-align: middle;\n",
       "    }\n",
       "\n",
       "    .dataframe tbody tr th {\n",
       "        vertical-align: top;\n",
       "    }\n",
       "\n",
       "    .dataframe thead th {\n",
       "        text-align: right;\n",
       "    }\n",
       "</style>\n",
       "<table border=\"1\" class=\"dataframe\">\n",
       "  <thead>\n",
       "    <tr style=\"text-align: right;\">\n",
       "      <th></th>\n",
       "      <th>user_cnt</th>\n",
       "      <th>Downgrade</th>\n",
       "      <th>level</th>\n",
       "    </tr>\n",
       "  </thead>\n",
       "  <tbody>\n",
       "    <tr>\n",
       "      <th>0</th>\n",
       "      <td>150</td>\n",
       "      <td>0</td>\n",
       "      <td>free</td>\n",
       "    </tr>\n",
       "    <tr>\n",
       "      <th>1</th>\n",
       "      <td>130</td>\n",
       "      <td>0</td>\n",
       "      <td>paid</td>\n",
       "    </tr>\n",
       "    <tr>\n",
       "      <th>2</th>\n",
       "      <td>36</td>\n",
       "      <td>1</td>\n",
       "      <td>paid</td>\n",
       "    </tr>\n",
       "    <tr>\n",
       "      <th>3</th>\n",
       "      <td>46</td>\n",
       "      <td>1</td>\n",
       "      <td>free</td>\n",
       "    </tr>\n",
       "  </tbody>\n",
       "</table>\n",
       "</div>"
      ],
      "text/plain": [
       "   user_cnt  Downgrade level\n",
       "0       150          0  free\n",
       "1       130          0  paid\n",
       "2        36          1  paid\n",
       "3        46          1  free"
      ]
     },
     "execution_count": 23,
     "metadata": {},
     "output_type": "execute_result"
    }
   ],
   "source": [
    "df_level"
   ]
  },
  {
   "cell_type": "code",
   "execution_count": 24,
   "metadata": {},
   "outputs": [
    {
     "data": {
      "image/png": "[encoded data removed]",
      "text/plain": [
       "<matplotlib.figure.Figure at 0x7f35485aa7b8>"
      ]
     },
     "metadata": {},
     "output_type": "display_data"
    }
   ],
   "source": [
    "df_level.user_cnt.plot(kind='pie',labels = ['Free-Not Churn', 'Paid-Not Churn','Paid-Churn','Free-Churn']);\n",
    "plt.title('Paid - Churn Relationship', \n",
    "              fontsize=12, fontweight='bold');"
   ]
  },
  {
   "cell_type": "markdown",
   "metadata": {},
   "source": [
    "#### Status when user churn"
   ]
  },
  {
   "cell_type": "code",
   "execution_count": 25,
   "metadata": {},
   "outputs": [
    {
     "data": {
      "text/plain": [
       "['artist',\n",
       " 'auth',\n",
       " 'firstName',\n",
       " 'gender',\n",
       " 'itemInSession',\n",
       " 'lastName',\n",
       " 'length',\n",
       " 'level',\n",
       " 'location',\n",
       " 'method',\n",
       " 'page',\n",
       " 'registration',\n",
       " 'sessionId',\n",
       " 'song',\n",
       " 'status',\n",
       " 'ts',\n",
       " 'userAgent',\n",
       " 'userId',\n",
       " 'Churn',\n",
       " 'Downgrade']"
      ]
     },
     "execution_count": 25,
     "metadata": {},
     "output_type": "execute_result"
    }
   ],
   "source": [
    "df.columns"
   ]
  },
  {
   "cell_type": "code",
   "execution_count": 26,
   "metadata": {},
   "outputs": [],
   "source": [
    "df_at_churn = df.filter(df.Churn == '1').select('level', 'userId').toPandas()"
   ]
  },
  {
   "cell_type": "code",
   "execution_count": 27,
   "metadata": {},
   "outputs": [
    {
     "data": {
      "text/html": [
       "<div>\n",
       "<style scoped>\n",
       "    .dataframe tbody tr th:only-of-type {\n",
       "        vertical-align: middle;\n",
       "    }\n",
       "\n",
       "    .dataframe tbody tr th {\n",
       "        vertical-align: top;\n",
       "    }\n",
       "\n",
       "    .dataframe thead th {\n",
       "        text-align: right;\n",
       "    }\n",
       "</style>\n",
       "<table border=\"1\" class=\"dataframe\">\n",
       "  <thead>\n",
       "    <tr style=\"text-align: right;\">\n",
       "      <th></th>\n",
       "      <th>level</th>\n",
       "      <th>userId</th>\n",
       "    </tr>\n",
       "  </thead>\n",
       "  <tbody>\n",
       "    <tr>\n",
       "      <th>0</th>\n",
       "      <td>free</td>\n",
       "      <td>21</td>\n",
       "    </tr>\n",
       "    <tr>\n",
       "      <th>1</th>\n",
       "      <td>paid</td>\n",
       "      <td>31</td>\n",
       "    </tr>\n",
       "  </tbody>\n",
       "</table>\n",
       "</div>"
      ],
      "text/plain": [
       "  level  userId\n",
       "0  free      21\n",
       "1  paid      31"
      ]
     },
     "execution_count": 27,
     "metadata": {},
     "output_type": "execute_result"
    }
   ],
   "source": [
    "df_at_churn.groupby('level').count().reset_index()"
   ]
  },
  {
   "cell_type": "code",
   "execution_count": 28,
   "metadata": {},
   "outputs": [
    {
     "data": {
      "image/png": "[encoded data removed]",
      "text/plain": [
       "<matplotlib.figure.Figure at 0x7f35485a6c18>"
      ]
     },
     "metadata": {
      "needs_background": "light"
     },
     "output_type": "display_data"
    }
   ],
   "source": [
    "sns.barplot(x = 'level', y = 'userId', data = df_at_churn.groupby('level').count().reset_index())\n",
    "plt.title('Status when user churn', \n",
    "              fontsize=12, fontweight='bold');"
   ]
  },
  {
   "cell_type": "markdown",
   "metadata": {},
   "source": [
    "#### Churn by Location"
   ]
  },
  {
   "cell_type": "code",
   "execution_count": 29,
   "metadata": {},
   "outputs": [
    {
     "name": "stdout",
     "output_type": "stream",
     "text": [
      "+---+-----+--------------------------------------------+\n",
      "|CNT|Churn|location                                    |\n",
      "+---+-----+--------------------------------------------+\n",
      "|16 |0    |Los Angeles-Long Beach-Anaheim, CA          |\n",
      "|15 |0    |New York-Newark-Jersey City, NY-NJ-PA       |\n",
      "|7  |0    |Phoenix-Mesa-Scottsdale, AZ                 |\n",
      "|7  |0    |Dallas-Fort Worth-Arlington, TX             |\n",
      "|6  |0    |St. Louis, MO-IL                            |\n",
      "|6  |0    |Charlotte-Concord-Gastonia, NC-SC           |\n",
      "|6  |0    |Chicago-Naperville-Elgin, IL-IN-WI          |\n",
      "|5  |1    |New York-Newark-Jersey City, NY-NJ-PA       |\n",
      "|5  |0    |Miami-Fort Lauderdale-West Palm Beach, FL   |\n",
      "|5  |0    |Boston-Cambridge-Newton, MA-NH              |\n",
      "|5  |0    |Philadelphia-Camden-Wilmington, PA-NJ-DE-MD |\n",
      "|4  |0    |Atlanta-Sandy Springs-Roswell, GA           |\n",
      "|4  |0    |Washington-Arlington-Alexandria, DC-VA-MD-WV|\n",
      "|4  |0    |Houston-The Woodlands-Sugar Land, TX        |\n",
      "|3  |0    |New Haven-Milford, CT                       |\n",
      "|3  |0    |Las Vegas-Henderson-Paradise, NV            |\n",
      "|3  |1    |Los Angeles-Long Beach-Anaheim, CA          |\n",
      "|3  |0    |San Diego-Carlsbad, CA                      |\n",
      "|2  |0    |Virginia Beach-Norfolk-Newport News, VA-NC  |\n",
      "|2  |0    |Syracuse, NY                                |\n",
      "+---+-----+--------------------------------------------+\n",
      "only showing top 20 rows\n",
      "\n"
     ]
    }
   ],
   "source": [
    "spark.sql('''\n",
    "        SELECT COUNT(DISTINCT userId ) AS CNT, Churn, location\n",
    "        FROM Sparkify_local\n",
    "        GROUP BY Churn, location\n",
    "        ORDER BY CNT DESC\n",
    "''').show(20, False)"
   ]
  },
  {
   "cell_type": "code",
   "execution_count": 30,
   "metadata": {},
   "outputs": [],
   "source": [
    "df_loc = spark.sql('''\n",
    "        SELECT COUNT(DISTINCT userId ) AS CNT, Churn, location\n",
    "        FROM Sparkify_local\n",
    "        GROUP BY Churn, location\n",
    "        ORDER BY CNT DESC\n",
    "''').toPandas()"
   ]
  },
  {
   "cell_type": "code",
   "execution_count": 31,
   "metadata": {},
   "outputs": [
    {
     "data": {
      "text/html": [
       "<div>\n",
       "<style scoped>\n",
       "    .dataframe tbody tr th:only-of-type {\n",
       "        vertical-align: middle;\n",
       "    }\n",
       "\n",
       "    .dataframe tbody tr th {\n",
       "        vertical-align: top;\n",
       "    }\n",
       "\n",
       "    .dataframe thead th {\n",
       "        text-align: right;\n",
       "    }\n",
       "</style>\n",
       "<table border=\"1\" class=\"dataframe\">\n",
       "  <thead>\n",
       "    <tr style=\"text-align: right;\">\n",
       "      <th></th>\n",
       "      <th>CNT</th>\n",
       "      <th>Churn</th>\n",
       "      <th>location</th>\n",
       "    </tr>\n",
       "  </thead>\n",
       "  <tbody>\n",
       "    <tr>\n",
       "      <th>0</th>\n",
       "      <td>16</td>\n",
       "      <td>0</td>\n",
       "      <td>Los Angeles-Long Beach-Anaheim, CA</td>\n",
       "    </tr>\n",
       "    <tr>\n",
       "      <th>1</th>\n",
       "      <td>15</td>\n",
       "      <td>0</td>\n",
       "      <td>New York-Newark-Jersey City, NY-NJ-PA</td>\n",
       "    </tr>\n",
       "    <tr>\n",
       "      <th>2</th>\n",
       "      <td>7</td>\n",
       "      <td>0</td>\n",
       "      <td>Dallas-Fort Worth-Arlington, TX</td>\n",
       "    </tr>\n",
       "    <tr>\n",
       "      <th>3</th>\n",
       "      <td>7</td>\n",
       "      <td>0</td>\n",
       "      <td>Phoenix-Mesa-Scottsdale, AZ</td>\n",
       "    </tr>\n",
       "    <tr>\n",
       "      <th>4</th>\n",
       "      <td>6</td>\n",
       "      <td>0</td>\n",
       "      <td>St. Louis, MO-IL</td>\n",
       "    </tr>\n",
       "  </tbody>\n",
       "</table>\n",
       "</div>"
      ],
      "text/plain": [
       "   CNT  Churn                               location\n",
       "0   16      0     Los Angeles-Long Beach-Anaheim, CA\n",
       "1   15      0  New York-Newark-Jersey City, NY-NJ-PA\n",
       "2    7      0        Dallas-Fort Worth-Arlington, TX\n",
       "3    7      0            Phoenix-Mesa-Scottsdale, AZ\n",
       "4    6      0                       St. Louis, MO-IL"
      ]
     },
     "execution_count": 31,
     "metadata": {},
     "output_type": "execute_result"
    }
   ],
   "source": [
    "df_loc.head()"
   ]
  },
  {
   "cell_type": "code",
   "execution_count": 32,
   "metadata": {},
   "outputs": [
    {
     "data": {
      "image/png": "[encoded data removed]",
      "text/plain": [
       "<matplotlib.figure.Figure at 0x7f3545c3ab38>"
      ]
     },
     "metadata": {
      "needs_background": "light"
     },
     "output_type": "display_data"
    }
   ],
   "source": [
    "plt.figure(figsize=(15,10))\n",
    "sns.barplot(x = 'location', y = 'CNT' , data = df_loc.head(10))\n",
    "plt.xticks(rotation=70)\n",
    "plt.title('Churn by Location', \n",
    "              fontsize=12, fontweight='bold');"
   ]
  },
  {
   "cell_type": "code",
   "execution_count": 33,
   "metadata": {},
   "outputs": [
    {
     "data": {
      "text/plain": [
       "[Row(artist='Sleeping With Sirens', auth='Logged In', firstName='Darianna', gender='F', itemInSession=0, lastName='Carpenter', length=202.97098, level='free', location='Bridgeport-Stamford-Norwalk, CT', method='PUT', page='NextSong', registration=1538016340000, sessionId=31, song='Captain Tyin Knots VS Mr Walkway (No Way)', status=200, ts=1539003534000, userAgent='\"Mozilla/5.0 (iPhone; CPU iPhone OS 7_1_2 like Mac OS X) AppleWebKit/537.51.2 (KHTML, like Gecko) Version/7.0 Mobile/11D257 Safari/9537.53\"', userId='100010', Churn=0, Downgrade=0)]"
      ]
     },
     "execution_count": 33,
     "metadata": {},
     "output_type": "execute_result"
    }
   ],
   "source": [
    "df.take(1)"
   ]
  },
  {
   "cell_type": "markdown",
   "metadata": {},
   "source": [
    "#### Most popular song in the set"
   ]
  },
  {
   "cell_type": "code",
   "execution_count": 34,
   "metadata": {},
   "outputs": [
    {
     "name": "stdout",
     "output_type": "stream",
     "text": [
      "+--------------------+-----+\n",
      "|                song|count|\n",
      "+--------------------+-----+\n",
      "|                null|58392|\n",
      "|      You're The One| 1153|\n",
      "|                Undo| 1026|\n",
      "|             Revelry|  854|\n",
      "|       Sehr kosmisch|  728|\n",
      "|Horn Concerto No....|  641|\n",
      "|Dog Days Are Over...|  574|\n",
      "|             Secrets|  466|\n",
      "|        Use Somebody|  459|\n",
      "|              Canada|  435|\n",
      "|             Invalid|  424|\n",
      "|    Ain't Misbehavin|  409|\n",
      "|       ReprÃÂ©sente|  393|\n",
      "|SinceritÃÂ© Et J...|  384|\n",
      "|Catch You Baby (S...|  373|\n",
      "|              Yellow|  343|\n",
      "|    Somebody To Love|  343|\n",
      "|    Hey_ Soul Sister|  334|\n",
      "|            The Gift|  327|\n",
      "|           Fireflies|  312|\n",
      "+--------------------+-----+\n",
      "only showing top 20 rows\n",
      "\n"
     ]
    }
   ],
   "source": [
    "df.select('song', 'sessionId').groupby('song').count().sort('count',ascending = False).show()"
   ]
  },
  {
   "cell_type": "code",
   "execution_count": 35,
   "metadata": {},
   "outputs": [],
   "source": [
    "df_song = df.select('song', 'sessionId').dropna().groupby('song').count().sort('count',ascending = False).toPandas()"
   ]
  },
  {
   "cell_type": "code",
   "execution_count": 36,
   "metadata": {},
   "outputs": [
    {
     "data": {
      "image/png": "[encoded data removed]",
      "text/plain": [
       "<matplotlib.figure.Figure at 0x7f3545be6780>"
      ]
     },
     "metadata": {
      "needs_background": "light"
     },
     "output_type": "display_data"
    }
   ],
   "source": [
    "plt.figure(figsize=(15,10))\n",
    "sns.barplot(x = 'song', y = 'count' , data = df_song.head(20))\n",
    "plt.xticks(rotation=70)\n",
    "plt.title('Top 20 Songs', \n",
    "              fontsize=12, fontweight='bold');"
   ]
  },
  {
   "cell_type": "markdown",
   "metadata": {},
   "source": [
    "#### Filter out null user_id"
   ]
  },
  {
   "cell_type": "code",
   "execution_count": 37,
   "metadata": {},
   "outputs": [
    {
     "data": {
      "text/plain": [
       "DataFrame[summary: string, userId: string]"
      ]
     },
     "execution_count": 37,
     "metadata": {},
     "output_type": "execute_result"
    }
   ],
   "source": [
    "df.select('userId').describe()"
   ]
  },
  {
   "cell_type": "code",
   "execution_count": 38,
   "metadata": {},
   "outputs": [],
   "source": [
    "df = df.filter(df['userId']!='')"
   ]
  },
  {
   "cell_type": "code",
   "execution_count": 39,
   "metadata": {},
   "outputs": [],
   "source": [
    "df = df.filter(col('auth')!='LoggedOut')"
   ]
  },
  {
   "cell_type": "markdown",
   "metadata": {},
   "source": [
    "# Feature Engineering\n",
    "Once you've familiarized yourself with the data, build out the features you find promising to train your model on. To work with the full dataset, you can follow the following steps.\n",
    "- Write a script to extract the necessary features from the smaller subset of data\n",
    "- Ensure that your script is scalable, using the best practices discussed in Lesson 3\n",
    "- Try your script on the full data set, debugging your script if necessary\n",
    "\n",
    "If you are working in the classroom workspace, you can just extract features based on the small subset of data contained here. Be sure to transfer over this work to the larger dataset when you work on your Spark cluster."
   ]
  },
  {
   "cell_type": "markdown",
   "metadata": {},
   "source": [
    "#### Get State"
   ]
  },
  {
   "cell_type": "code",
   "execution_count": 40,
   "metadata": {},
   "outputs": [
    {
     "data": {
      "text/plain": [
       "[Row(location=' CA', userId='30')]"
      ]
     },
     "execution_count": 40,
     "metadata": {},
     "output_type": "execute_result"
    }
   ],
   "source": [
    "df.select('location','userId').withColumn('location', split(col('location'),',').getItem(1)).take(1)"
   ]
  },
  {
   "cell_type": "code",
   "execution_count": 41,
   "metadata": {},
   "outputs": [],
   "source": [
    "def clean_data(df):\n",
    "    \"\"\"\n",
    "    clean data to remove pages with null user_is and logged out users\n",
    "    \"\"\"\n",
    "    df = df.filter(df['userId']!='')\n",
    "    df = df.filter(col('auth')!='LoggedOut')\n",
    "    get_hour = udf(lambda x:datetime.datetime.fromtimestamp(x/1000.0). hour)\n",
    "    df = df.withColumn('hour', get_hour(df.ts))\n",
    "    df = df.withColumn(\"hour\", df.hour.cast(IntegerType()))\n",
    "    #udf to convert the ts to timestamp\n",
    "    get_timestamp = udf(lambda x : datetime.datetime.fromtimestamp(x/ 1000.0).strftime(\"%Y-%m-%d %H:%M:%S\"))\n",
    "    #apply this udf in the dataframe with your timestamp\n",
    "    df = df.withColumn(\"datetime\", get_timestamp(df.ts))\n",
    "    #turn registered hixtime to datetime\n",
    "    df = df.withColumn(\"registration_date\", get_timestamp(df.registration))\n",
    "    #create date\n",
    "    df = df.withColumn('date', F.from_unixtime(col('ts')/1000).cast(DateType()))\n",
    "    df = df.withColumn('location', split(col('location'),',').getItem(1))\n",
    "    return df"
   ]
  },
  {
   "cell_type": "code",
   "execution_count": 42,
   "metadata": {},
   "outputs": [],
   "source": [
    "df = clean_data(df)"
   ]
  },
  {
   "cell_type": "code",
   "execution_count": 43,
   "metadata": {},
   "outputs": [
    {
     "data": {
      "text/plain": [
       "[Row(artist='Sleeping With Sirens', auth='Logged In', firstName='Darianna', gender='F', itemInSession=0, lastName='Carpenter', length=202.97098, level='free', location=' CT', method='PUT', page='NextSong', registration=1538016340000, sessionId=31, song='Captain Tyin Knots VS Mr Walkway (No Way)', status=200, ts=1539003534000, userAgent='\"Mozilla/5.0 (iPhone; CPU iPhone OS 7_1_2 like Mac OS X) AppleWebKit/537.51.2 (KHTML, like Gecko) Version/7.0 Mobile/11D257 Safari/9537.53\"', userId='100010', Churn=0, Downgrade=0, hour=12, datetime='2018-10-08 12:58:54', registration_date='2018-09-27 02:45:40', date=datetime.date(2018, 10, 8))]"
      ]
     },
     "execution_count": 43,
     "metadata": {},
     "output_type": "execute_result"
    }
   ],
   "source": [
    "df.take(1)"
   ]
  },
  {
   "cell_type": "markdown",
   "metadata": {},
   "source": [
    "##### Account Age"
   ]
  },
  {
   "cell_type": "code",
   "execution_count": 44,
   "metadata": {},
   "outputs": [],
   "source": [
    "def account_age(df = df):\n",
    "    \"\"\"\n",
    "    INPUT df\n",
    "    OUTPUT number of days from the start of registeration\n",
    "    \"\"\"\n",
    "    df_account_age = df.select('ts', 'userId' , 'registration') \\\n",
    "    .withColumn('account_age', df.ts - df.registration) \\\n",
    "    .groupby('userId').agg({'account_age' :'max' }) \\\n",
    "    .withColumnRenamed('max(account_age)', 'account_age') \\\n",
    "    .withColumn('account_age', col('account_age')/1000/3600/24)\n",
    "    return df_account_age"
   ]
  },
  {
   "cell_type": "code",
   "execution_count": 45,
   "metadata": {},
   "outputs": [],
   "source": [
    "df_account_age = account_age()"
   ]
  },
  {
   "cell_type": "markdown",
   "metadata": {},
   "source": [
    "#### Hour of churn"
   ]
  },
  {
   "cell_type": "code",
   "execution_count": 46,
   "metadata": {},
   "outputs": [],
   "source": [
    "def hr_of_churn(df = df):\n",
    "    \"\"\"\n",
    "    INPUT df\n",
    "    OUTPUT hour of churn event happended\n",
    "    \"\"\"\n",
    "    # Hour of churn\n",
    "    hr_of_churn = df.select('hour','userId').filter('Churn == \"1\"') \\\n",
    "        .groupby(['userId']) \\\n",
    "        .max() \\\n",
    "        .withColumnRenamed('max(hour)', 'hour_of_churn')\n",
    "    return hr_of_churn"
   ]
  },
  {
   "cell_type": "code",
   "execution_count": 47,
   "metadata": {},
   "outputs": [],
   "source": [
    "hr_of_churn = hr_of_churn()"
   ]
  },
  {
   "cell_type": "markdown",
   "metadata": {},
   "source": [
    "#### Get Date"
   ]
  },
  {
   "cell_type": "markdown",
   "metadata": {},
   "source": [
    "#udf to convert the ts to timestamp\n",
    "get_timestamp = udf(lambda x : datetime.datetime.fromtimestamp(x/ 1000.0).strftime(\"%Y-%m-%d %H:%M:%S\"))\n",
    "\n",
    "#apply this udf in the dataframe with your timestamp\n",
    "df.withColumn(\"datetime\", get_timestamp(df.ts))"
   ]
  },
  {
   "cell_type": "markdown",
   "metadata": {},
   "source": [
    "#### get total num of songs"
   ]
  },
  {
   "cell_type": "code",
   "execution_count": 48,
   "metadata": {},
   "outputs": [],
   "source": [
    "def tot_song(df = df):\n",
    "    \"\"\"\n",
    "    INPUT df\n",
    "    OUTPUT total num of song each user played till date\n",
    "    \"\"\"\n",
    "    # Number of songs listened by each users\n",
    "    df_tot_song = df.where('page == \"NextSong\"') \\\n",
    "        .groupby(['userId']) \\\n",
    "        .count() \\\n",
    "        .withColumnRenamed('count', 'tot_songs_played')\n",
    "    return df_tot_song"
   ]
  },
  {
   "cell_type": "code",
   "execution_count": 49,
   "metadata": {},
   "outputs": [],
   "source": [
    "df_tot_song = tot_song()"
   ]
  },
  {
   "cell_type": "markdown",
   "metadata": {},
   "source": [
    "#### total thumbs up and down"
   ]
  },
  {
   "cell_type": "code",
   "execution_count": 50,
   "metadata": {},
   "outputs": [
    {
     "name": "stdout",
     "output_type": "stream",
     "text": [
      "+--------------------+---+\n",
      "|                page|CNT|\n",
      "+--------------------+---+\n",
      "|            NextSong|225|\n",
      "|                Home|224|\n",
      "|           Thumbs Up|220|\n",
      "|     Add to Playlist|215|\n",
      "|              Logout|213|\n",
      "|         Roll Advert|207|\n",
      "|          Add Friend|206|\n",
      "|         Thumbs Down|203|\n",
      "|            Settings|195|\n",
      "|                Help|193|\n",
      "|             Upgrade|168|\n",
      "|               About|156|\n",
      "|           Downgrade|154|\n",
      "|       Save Settings|132|\n",
      "|      Submit Upgrade|131|\n",
      "|               Error|118|\n",
      "|Cancellation Conf...| 52|\n",
      "|              Cancel| 52|\n",
      "|    Submit Downgrade| 49|\n",
      "|               Login|  1|\n",
      "+--------------------+---+\n",
      "only showing top 20 rows\n",
      "\n"
     ]
    }
   ],
   "source": [
    "spark.sql('''\n",
    "        SELECT page, count(DISTINCT userId) AS CNT\n",
    "        FROM Sparkify_local\n",
    "        GROUP BY page\n",
    "        ORDER BY CNT DESC\n",
    "''').show(20)"
   ]
  },
  {
   "cell_type": "markdown",
   "metadata": {},
   "source": [
    "df_tot_thumbup = df.select('page', 'userId').where('page = \"Thumbs Up\"').groupby('userId').count().withColumnRenamed('count', 'tot_thumbsup')\n",
    "df_tot_thumbdown = df.select('page', 'userId').where('page = \"Thumbs Down\"').groupby('userId').count().withColumnRenamed('count', 'tot_thumbsdown')"
   ]
  },
  {
   "cell_type": "markdown",
   "metadata": {},
   "source": [
    "#### Create Page Cnt Function"
   ]
  },
  {
   "cell_type": "code",
   "execution_count": 51,
   "metadata": {},
   "outputs": [],
   "source": [
    "def create_page_cnts(df, page_name):\n",
    "    \"\"\"\n",
    "    Create Function to count different page activities by userid\n",
    "    \"\"\"\n",
    "    df_cnt = df.select('page', 'userId') \\\n",
    "    .where(df.page == page_name) \\\n",
    "    .groupby('userId') \\\n",
    "    .count().withColumnRenamed('count', page_name)\n",
    "    print(df_cnt.show(5))\n",
    "    return df_cnt"
   ]
  },
  {
   "cell_type": "code",
   "execution_count": 52,
   "metadata": {},
   "outputs": [
    {
     "name": "stdout",
     "output_type": "stream",
     "text": [
      "+------+---------+\n",
      "|userId|Thumbs Up|\n",
      "+------+---------+\n",
      "|100010|       17|\n",
      "|200002|       21|\n",
      "|    51|      100|\n",
      "|   124|      171|\n",
      "|     7|        7|\n",
      "+------+---------+\n",
      "only showing top 5 rows\n",
      "\n",
      "None\n",
      "+------+-----------+\n",
      "|userId|Thumbs Down|\n",
      "+------+-----------+\n",
      "|100010|          5|\n",
      "|200002|          6|\n",
      "|    51|         21|\n",
      "|   124|         41|\n",
      "|     7|          1|\n",
      "+------+-----------+\n",
      "only showing top 5 rows\n",
      "\n",
      "None\n"
     ]
    }
   ],
   "source": [
    "df_tot_thumbup = create_page_cnts(df, \"Thumbs Up\")\n",
    "\n",
    "df_tot_thumbdown = create_page_cnts(df, \"Thumbs Down\")"
   ]
  },
  {
   "cell_type": "markdown",
   "metadata": {},
   "source": [
    "#### add to playlist"
   ]
  },
  {
   "cell_type": "code",
   "execution_count": 53,
   "metadata": {},
   "outputs": [
    {
     "name": "stdout",
     "output_type": "stream",
     "text": [
      "+------+---------------+\n",
      "|userId|Add to Playlist|\n",
      "+------+---------------+\n",
      "|100010|              7|\n",
      "|200002|              8|\n",
      "|    51|             52|\n",
      "|   124|            118|\n",
      "|     7|              5|\n",
      "+------+---------------+\n",
      "only showing top 5 rows\n",
      "\n",
      "None\n"
     ]
    }
   ],
   "source": [
    "df_tot_playlist_song = create_page_cnts(df, \"Add to Playlist\")"
   ]
  },
  {
   "cell_type": "markdown",
   "metadata": {},
   "source": [
    "#### Add Friend"
   ]
  },
  {
   "cell_type": "code",
   "execution_count": 54,
   "metadata": {},
   "outputs": [
    {
     "name": "stdout",
     "output_type": "stream",
     "text": [
      "+------+----------+\n",
      "|userId|Add Friend|\n",
      "+------+----------+\n",
      "|100010|         4|\n",
      "|200002|         4|\n",
      "|    51|        28|\n",
      "|   124|        74|\n",
      "|     7|         1|\n",
      "+------+----------+\n",
      "only showing top 5 rows\n",
      "\n",
      "None\n"
     ]
    }
   ],
   "source": [
    "df_friends = create_page_cnts(df, \"Add Friend\")"
   ]
  },
  {
   "cell_type": "markdown",
   "metadata": {},
   "source": [
    "#### Average time"
   ]
  },
  {
   "cell_type": "code",
   "execution_count": 55,
   "metadata": {},
   "outputs": [
    {
     "data": {
      "text/plain": [
       "[Row(artist='Sleeping With Sirens', auth='Logged In', firstName='Darianna', gender='F', itemInSession=0, lastName='Carpenter', length=202.97098, level='free', location=' CT', method='PUT', page='NextSong', registration=1538016340000, sessionId=31, song='Captain Tyin Knots VS Mr Walkway (No Way)', status=200, ts=1539003534000, userAgent='\"Mozilla/5.0 (iPhone; CPU iPhone OS 7_1_2 like Mac OS X) AppleWebKit/537.51.2 (KHTML, like Gecko) Version/7.0 Mobile/11D257 Safari/9537.53\"', userId='100010', Churn=0, Downgrade=0, hour=12, datetime='2018-10-08 12:58:54', registration_date='2018-09-27 02:45:40', date=datetime.date(2018, 10, 8))]"
      ]
     },
     "execution_count": 55,
     "metadata": {},
     "output_type": "execute_result"
    }
   ],
   "source": [
    "df.take(1)"
   ]
  },
  {
   "cell_type": "code",
   "execution_count": 56,
   "metadata": {},
   "outputs": [],
   "source": [
    "def avg_time_per_page(df=df):\n",
    "    \"\"\"\n",
    "    input: df\n",
    "    output: average music played time/length per user\n",
    "    \"\"\"\n",
    "    df_avg_time = df.where('page == \"NextSong\"') \\\n",
    "    .select('length', 'userId') \\\n",
    "    .groupby('userId') \\\n",
    "    .avg().withColumnRenamed('avg(length)', 'length')\n",
    "    return df_avg_time"
   ]
  },
  {
   "cell_type": "code",
   "execution_count": 57,
   "metadata": {},
   "outputs": [],
   "source": [
    "df_avg_time_pp = avg_time_per_page()"
   ]
  },
  {
   "cell_type": "code",
   "execution_count": 58,
   "metadata": {
    "scrolled": true
   },
   "outputs": [
    {
     "name": "stdout",
     "output_type": "stream",
     "text": [
      "+------+------------------+\n",
      "|userId|            length|\n",
      "+------+------------------+\n",
      "|100010|  243.421444909091|\n",
      "|200002|242.91699209302305|\n",
      "|   125|261.13913750000006|\n",
      "|    51|247.88055082899118|\n",
      "|   124|248.17653659965674|\n",
      "+------+------------------+\n",
      "only showing top 5 rows\n",
      "\n"
     ]
    }
   ],
   "source": [
    "df_avg_time_pp.show(5)"
   ]
  },
  {
   "cell_type": "markdown",
   "metadata": {},
   "source": [
    "#### Average Daily Time"
   ]
  },
  {
   "cell_type": "code",
   "execution_count": 59,
   "metadata": {},
   "outputs": [
    {
     "data": {
      "text/plain": [
       "[Row(artist='Sleeping With Sirens', auth='Logged In', firstName='Darianna', gender='F', itemInSession=0, lastName='Carpenter', length=202.97098, level='free', location=' CT', method='PUT', page='NextSong', registration=1538016340000, sessionId=31, song='Captain Tyin Knots VS Mr Walkway (No Way)', status=200, ts=1539003534000, userAgent='\"Mozilla/5.0 (iPhone; CPU iPhone OS 7_1_2 like Mac OS X) AppleWebKit/537.51.2 (KHTML, like Gecko) Version/7.0 Mobile/11D257 Safari/9537.53\"', userId='100010', Churn=0, Downgrade=0, hour=12, datetime='2018-10-08 12:58:54', registration_date='2018-09-27 02:45:40', date=datetime.date(2018, 10, 8))]"
      ]
     },
     "execution_count": 59,
     "metadata": {},
     "output_type": "execute_result"
    }
   ],
   "source": [
    "df.take(1)"
   ]
  },
  {
   "cell_type": "code",
   "execution_count": 60,
   "metadata": {},
   "outputs": [],
   "source": [
    "def avg_daily_active_hour(df = df):\n",
    "    \"\"\"\n",
    "    input: df\n",
    "    output: average daily active hours per user_id\n",
    "    \"\"\"\n",
    "    df_avg_daily_len = df.select('length', 'userId','date') \\\n",
    "    .groupby('date', 'userId') \\\n",
    "    .sum('length') \\\n",
    "    .withColumnRenamed('sum(length)', 'tot_daily_len') \\\n",
    "    .groupby('userId') \\\n",
    "    .avg('tot_daily_len') \\\n",
    "    .withColumnRenamed('avg(tot_daily_len)', 'avg_daily_len')\n",
    "    return df_avg_daily_len"
   ]
  },
  {
   "cell_type": "code",
   "execution_count": 61,
   "metadata": {},
   "outputs": [],
   "source": [
    "df_avg_daily_len = avg_daily_active_hour()"
   ]
  },
  {
   "cell_type": "markdown",
   "metadata": {},
   "source": [
    "#### Join All Features"
   ]
  },
  {
   "cell_type": "code",
   "execution_count": 62,
   "metadata": {},
   "outputs": [],
   "source": [
    "def agg_data():\n",
    "    \"\"\"\n",
    "    Joining all data to get the modeling dataframe\n",
    "    \n",
    "    \"\"\"\n",
    "    joined_df = df_account_age.join(df_avg_time_pp, on='userId', how ='left') \\\n",
    "    .join(df_friends, on='userId', how ='left') \\\n",
    "    .join(df_tot_playlist_song, on='userId', how ='left') \\\n",
    "    .join(df_tot_thumbdown, on='userId', how ='left') \\\n",
    "    .join(df_tot_thumbup, on='userId', how ='left') \\\n",
    "    .join(df_tot_song, on='userId', how ='left') \\\n",
    "    .join(hr_of_churn, on='userId', how ='left') \\\n",
    "    .join(df_avg_daily_len, on='userId', how ='left')\n",
    "    \n",
    "    joined_df = joined_df.fillna(0)\n",
    "\n",
    "    df_cat_feature = df.select('gender', 'location', 'Downgrade', 'userId', 'Churn').drop_duplicates()\n",
    "\n",
    "    all_df= joined_df.join(df_cat_feature,on='userId')\n",
    "    all_df = all_df.drop('userId')\n",
    "    return all_df "
   ]
  },
  {
   "cell_type": "code",
   "execution_count": 63,
   "metadata": {},
   "outputs": [],
   "source": [
    "all_df = agg_data()"
   ]
  },
  {
   "cell_type": "code",
   "execution_count": 64,
   "metadata": {},
   "outputs": [],
   "source": [
    "ls_col = [\n",
    " 'account_age',\n",
    " 'length',\n",
    " 'Add Friend',\n",
    " 'Add to Playlist',\n",
    " 'Thumbs Down',\n",
    " 'Thumbs Up',\n",
    " 'tot_songs_played',\n",
    " 'hour_of_churn',\n",
    " 'avg_daily_len',\n",
    " 'gender_index',\n",
    "#  'location_index'\n",
    "]\n",
    "# ls_col.append('gender_index')\n",
    "# ls_col.append('location_index')"
   ]
  },
  {
   "cell_type": "code",
   "execution_count": 65,
   "metadata": {
    "scrolled": true
   },
   "outputs": [],
   "source": [
    "def processing_data_pipeline():\n",
    "    \"\"\"\n",
    "    Create data transformation pipline for categorical varaibles\n",
    "    \"\"\"\n",
    "    indexer_gender = StringIndexer(inputCol='gender', outputCol='gender_index')\n",
    "    indexer_location = StringIndexer(inputCol='location', outputCol='location_index')\n",
    "    assembler = VectorAssembler(inputCols=ls_col, outputCol='features')\n",
    "    data_pipeline = Pipeline(stages=[indexer_gender, assembler])\n",
    "    return data_pipeline"
   ]
  },
  {
   "cell_type": "code",
   "execution_count": 66,
   "metadata": {},
   "outputs": [],
   "source": [
    "data_pipeline = processing_data_pipeline()"
   ]
  },
  {
   "cell_type": "code",
   "execution_count": 67,
   "metadata": {},
   "outputs": [],
   "source": [
    "model_df = data_pipeline.fit(all_df).transform(all_df)\n",
    "\n",
    "final_df = model_df.select(model_df.Churn.alias('label'), 'features')\n",
    "\n",
    "train, test = final_df.randomSplit([0.9, 0.1], seed=42)"
   ]
  },
  {
   "cell_type": "code",
   "execution_count": 94,
   "metadata": {},
   "outputs": [
    {
     "data": {
      "text/plain": [
       "[Row(account_age=55.6436574074074, length=243.421444909091, Add Friend=4, Add to Playlist=7, Thumbs Down=5, Thumbs Up=17, tot_songs_played=275, hour_of_churn=0, avg_daily_len=9562.985335714284, gender='F', location=' CT', Downgrade=0, Churn=0, gender_index=1.0, features=DenseVector([55.6437, 243.4214, 4.0, 7.0, 5.0, 17.0, 275.0, 0.0, 9562.9853, 1.0]))]"
      ]
     },
     "execution_count": 94,
     "metadata": {},
     "output_type": "execute_result"
    }
   ],
   "source": [
    "model_df.take(1)"
   ]
  },
  {
   "cell_type": "markdown",
   "metadata": {},
   "source": [
    "# Modeling\n",
    "Split the full dataset into train, test, and validation sets. Test out several of the machine learning methods you learned. Evaluate the accuracy of the various models, tuning parameters as necessary. Determine your winning model based on test accuracy and report results on the validation set. Since the churned users are a fairly small subset, I suggest using F1 score as the metric to optimize."
   ]
  },
  {
   "cell_type": "code",
   "execution_count": 95,
   "metadata": {},
   "outputs": [],
   "source": [
    "def fit_classifier(model_name , train = train, test = test):\n",
    "    print('The {} model is training....'.format(model_name))\n",
    "    if model_name == 'LogisticRegression':\n",
    "        md = LogisticRegression()\n",
    "    if model_name == 'RandomForestClassifier':\n",
    "        md = RandomForestClassifier()\n",
    "    if model_name == 'DecisionTreeClassifier':\n",
    "        md = DecisionTreeClassifier()\n",
    "    clf = md.fit(train)\n",
    "    test_results = clf.transform(test)\n",
    "    f1_score_evaluator = MulticlassClassificationEvaluator(metricName='f1')\n",
    "    f1_score = f1_score_evaluator.evaluate(test_results.select(col('label'), col('prediction')))\n",
    "    print('The F1 score on the test set is {:.2%}'.format(f1_score))\n",
    "    return clf,test_results"
   ]
  },
  {
   "cell_type": "code",
   "execution_count": 97,
   "metadata": {
    "scrolled": false
   },
   "outputs": [
    {
     "name": "stdout",
     "output_type": "stream",
     "text": [
      "The LogisticRegression model is training....\n",
      "The F1 score on the test set is 79.13%\n",
      "The RandomForestClassifier model is training....\n",
      "The F1 score on the test set is 55.41%\n",
      "The DecisionTreeClassifier model is training....\n",
      "The F1 score on the test set is 55.41%\n"
     ]
    }
   ],
   "source": [
    "for model_name in ['LogisticRegression', 'RandomForestClassifier', 'DecisionTreeClassifier']:\n",
    "    fit_classifier(model_name)"
   ]
  },
  {
   "cell_type": "markdown",
   "metadata": {},
   "source": [
    "#### Tunning"
   ]
  },
  {
   "cell_type": "code",
   "execution_count": 68,
   "metadata": {},
   "outputs": [],
   "source": [
    "lr = LogisticRegression()\n",
    "paramGrid = ParamGridBuilder().\\\n",
    "            addGrid(lr.regParam,[0.01, 0.05, 0.1]).\\\n",
    "            build()\n",
    "\n",
    "crossval = CrossValidator(estimator=lr,\n",
    "                          estimatorParamMaps=paramGrid,\n",
    "                          evaluator=MulticlassClassificationEvaluator(metricName=\"f1\"),\n",
    "                          numFolds=3)"
   ]
  },
  {
   "cell_type": "code",
   "execution_count": 69,
   "metadata": {
    "scrolled": false
   },
   "outputs": [
    {
     "name": "stdout",
     "output_type": "stream",
     "text": [
      "The F1 score on the test set is 72.11%\n"
     ]
    }
   ],
   "source": [
    "cvModel_lr = crossval.fit(train)\n",
    "test_results = cvModel_lr.transform(test)\n",
    "f1_score_evaluator = MulticlassClassificationEvaluator(metricName='f1')\n",
    "f1_score = f1_score_evaluator.evaluate(test_results.select(col('label'), col('prediction')))\n",
    "print('The F1 score on the test set is {:.2%}'.format(f1_score))"
   ]
  },
  {
   "cell_type": "code",
   "execution_count": null,
   "metadata": {},
   "outputs": [],
   "source": []
  }
 ],
 "metadata": {
  "kernelspec": {
   "display_name": "Python 3",
   "language": "python",
   "name": "python3"
  },
  "language_info": {
   "codemirror_mode": {
    "name": "ipython",
    "version": 3
   },
   "file_extension": ".py",
   "mimetype": "text/x-python",
   "name": "python",
   "nbconvert_exporter": "python",
   "pygments_lexer": "ipython3",
   "version": "3.6.3"
  }
 },
 "nbformat": 4,
 "nbformat_minor": 2
}
